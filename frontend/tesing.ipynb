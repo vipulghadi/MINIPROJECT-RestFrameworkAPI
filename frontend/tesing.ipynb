{
 "cells": [
  {
   "cell_type": "code",
   "execution_count": 73,
   "metadata": {},
   "outputs": [],
   "source": [
    "\n",
    "##code\n",
    "import json\n",
    "import requests\n",
    "def basic_api(method,data):\n",
    "    URL=\"http://localhost:8000/myapp/function-view-api/\"\n",
    "    print(method)\n",
    "    headers={\"Content-Type\":\"application/json\"}\n",
    "    def get(email=None):\n",
    "        if(email==None): email=\"all\"\n",
    "        data={\n",
    "            \"email\":email\n",
    "        }\n",
    "        r=requests.get(data=json.dumps(data),url=URL,headers=headers)\n",
    "        print(r.json())\n",
    "    \n",
    "    def post(data):\n",
    "        if \"name\" not in data or \"email\" not in data or \"nickname\" not in data:\n",
    "            print(\"error while cilent side validation\")\n",
    "        else:\n",
    "            r=requests.post(data=json.dumps(data),url=URL)\n",
    "            print(r.text())\n",
    "      \n",
    "    def put(data):\n",
    "        if \"name\" not in data or \"email\" not in data or \"nickname\" not in data:\n",
    "            print(\"error while cilent side validation\")\n",
    "        else:\n",
    "            r=requests.put(data=json.dumps(data),url=URL)\n",
    "            print(r.json())\n",
    "    \n",
    "    def delete(data):\n",
    "        if \"name\" not in data or \"email\" not in data or \"nickname\" not in data:\n",
    "            print(\"error while cilent side validation\")\n",
    "        else:\n",
    "            r=requests.delete(data=json.dumps(data),url=URL)\n",
    "            print(r.json())\n",
    "              \n",
    "    if method==\"get\":get(data)\n",
    "    elif method==\"post\":post(data)\n",
    "    elif method==\"delete\":delete(data)\n",
    "    elif method==\"put\":put(data)\n",
    "    else:\n",
    "        return \"invalid request\"\n",
    "\n"
   ]
  },
  {
   "cell_type": "code",
   "execution_count": 75,
   "metadata": {},
   "outputs": [
    {
     "name": "stdout",
     "output_type": "stream",
     "text": [
      "get\n",
      "{'name': 'saheel', 'email': 'sahil@gmail.com', 'nickname': 'sexy'}\n"
     ]
    }
   ],
   "source": [
    "#{\"name\":\"xa\",\"email\":\"fdsf@gmail.com\",\"nickname\":\"dcsaf\"}\n",
    "basic_api(\"get\",\"sahil@gmail.com\")"
   ]
  },
  {
   "cell_type": "code",
   "execution_count": 29,
   "metadata": {},
   "outputs": [],
   "source": [
    "a"
   ]
  },
  {
   "cell_type": "code",
   "execution_count": 49,
   "metadata": {},
   "outputs": [],
   "source": []
  },
  {
   "cell_type": "code",
   "execution_count": 50,
   "metadata": {},
   "outputs": [
    {
     "ename": "SyntaxError",
     "evalue": "not acceptable value (<string>)",
     "output_type": "error",
     "traceback": [
      "Traceback \u001b[1;36m(most recent call last)\u001b[0m:\n",
      "  File \u001b[0;32mc:\\Users\\vipul ghadi\\New folder\\python\\lib\\site-packages\\IPython\\core\\interactiveshell.py:3340\u001b[0m in \u001b[0;35mrun_code\u001b[0m\n    exec(code_obj, self.user_global_ns, self.user_ns)\n",
      "  Input \u001b[0;32mIn [50]\u001b[0m in \u001b[0;35m<cell line: 1>\u001b[0m\n    test(0)\n",
      "\u001b[1;36m  Input \u001b[1;32mIn [49]\u001b[1;36m in \u001b[1;35mtest\u001b[1;36m\u001b[0m\n\u001b[1;33m    if(num==0):raise SyntaxError(\"not acceptable value\")\u001b[0m\n",
      "\u001b[1;36m  File \u001b[1;32m<string>\u001b[1;36m\u001b[0m\n\u001b[1;31mSyntaxError\u001b[0m\u001b[1;31m:\u001b[0m not acceptable value\n"
     ]
    }
   ],
   "source": [
    "test(0)"
   ]
  },
  {
   "cell_type": "code",
   "execution_count": null,
   "metadata": {},
   "outputs": [],
   "source": []
  }
 ],
 "metadata": {
  "kernelspec": {
   "display_name": "Python 3",
   "language": "python",
   "name": "python3"
  },
  "language_info": {
   "codemirror_mode": {
    "name": "ipython",
    "version": 3
   },
   "file_extension": ".py",
   "mimetype": "text/x-python",
   "name": "python",
   "nbconvert_exporter": "python",
   "pygments_lexer": "ipython3",
   "version": "3.10.2"
  }
 },
 "nbformat": 4,
 "nbformat_minor": 2
}

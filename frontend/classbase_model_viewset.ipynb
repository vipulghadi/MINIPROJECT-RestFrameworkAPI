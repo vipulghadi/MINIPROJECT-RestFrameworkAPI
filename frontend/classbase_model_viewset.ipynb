{
 "cells": [
  {
   "cell_type": "code",
   "execution_count": 2,
   "metadata": {},
   "outputs": [],
   "source": [
    "import requests\n",
    "import json\n",
    "url=\"http://localhost:8000/myapp/studentapi/\""
   ]
  },
  {
   "cell_type": "code",
   "execution_count": 6,
   "metadata": {},
   "outputs": [
    {
     "name": "stdout",
     "output_type": "stream",
     "text": [
      "{'name': 'rajiv', 'email': 'wdfds', 'nickname': 'sfd'}\n"
     ]
    }
   ],
   "source": [
    "r=requests.get(url=url+\"5\")\n",
    "print(r.json())"
   ]
  },
  {
   "cell_type": "code",
   "execution_count": 46,
   "metadata": {},
   "outputs": [
    {
     "name": "stdout",
     "output_type": "stream",
     "text": [
      "{'detail': 'Authentication credentials were not provided.'}\n"
     ]
    }
   ],
   "source": [
    "data={\n",
    "    \"name\":\"raja\",\n",
    "    \"email\":\"dhoni@gmail.com\",\n",
    "    \"nickname\":\"maahi\"\n",
    "}\n",
    "r=requests.get(data=data,url=url+\"8\"+\"/\",headers={\"Content-Type\":\"application/json\"})\n",
    "print(r.json())"
   ]
  },
  {
   "cell_type": "code",
   "execution_count": null,
   "metadata": {},
   "outputs": [],
   "source": []
  }
 ],
 "metadata": {
  "kernelspec": {
   "display_name": "Python 3",
   "language": "python",
   "name": "python3"
  },
  "language_info": {
   "codemirror_mode": {
    "name": "ipython",
    "version": 3
   },
   "file_extension": ".py",
   "mimetype": "text/x-python",
   "name": "python",
   "nbconvert_exporter": "python",
   "pygments_lexer": "ipython3",
   "version": "3.10.2"
  }
 },
 "nbformat": 4,
 "nbformat_minor": 2
}
